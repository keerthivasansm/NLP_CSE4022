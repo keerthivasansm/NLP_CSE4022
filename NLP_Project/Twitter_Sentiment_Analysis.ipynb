{
  "nbformat": 4,
  "nbformat_minor": 0,
  "metadata": {
    "colab": {
      "name": "nlp project.ipynb",
      "provenance": [],
      "collapsed_sections": []
    },
    "kernelspec": {
      "name": "python3",
      "display_name": "Python 3"
    }
  },
  "cells": [
    {
      "cell_type": "code",
      "metadata": {
        "id": "e09kX_0ClmXC",
        "outputId": "2cdd393f-6c5e-4eef-d087-ba3a43440bb6",
        "colab": {
          "base_uri": "https://localhost:8080/",
          "height": 482
        }
      },
      "source": [
        "import sys,tweepy,csv,re\n",
        "from textblob import TextBlob\n",
        "import matplotlib.pyplot as plt\n",
        "\n",
        "\n",
        "class SentimentAnalysis:\n",
        "\n",
        "    def __init__(self):\n",
        "        self.tweets = []\n",
        "        self.tweetText = []\n",
        "\n",
        "    def DownloadData(self):\n",
        "        \n",
        "        consumerKey = 'PLnHN8MwWtfhWmaNo8BhNb6jm'\n",
        "        consumerSecret = 'bVpyWESaSr9cYc2XbSg1avvDmbpQRkOE2Ld1DQHGRpcnXpvGn8'\n",
        "        accessToken = '1320575821862481922-QxZRvXy8ba2gfWvKDKFWsSthPIdTDw'\n",
        "        accessTokenSecret = 'Vqq4AjnG3aZQQlZnj8AklhSAiBfyyIAQMqHr5vAubnOWC'\n",
        "        auth = tweepy.OAuthHandler(consumerKey, consumerSecret)\n",
        "        auth.set_access_token(accessToken, accessTokenSecret)\n",
        "        api = tweepy.API(auth)\n",
        "\n",
        "        \n",
        "        searchTerm = input(\"Enter Keyword:\")\n",
        "        NoOfTerms = int(input(\"Enter how many tweets to search: \"))\n",
        "\n",
        "        \n",
        "        self.tweets = tweepy.Cursor(api.search, q=searchTerm, lang = \"en\").items(NoOfTerms)\n",
        "\n",
        "        \n",
        "        csvFile = open('result.csv', 'a')\n",
        "\n",
        "        \n",
        "        csvWriter = csv.writer(csvFile)\n",
        "\n",
        "\n",
        "        \n",
        "        polarity = 0\n",
        "        positive = 0\n",
        "        negative = 0\n",
        "        neutral = 0\n",
        "\n",
        "\n",
        "        \n",
        "        for tweet in self.tweets:\n",
        "            \n",
        "            self.tweetText.append(self.cleanTweet(tweet.text).encode('utf-8'))\n",
        "            \n",
        "            analysis = TextBlob(tweet.text)\n",
        "            \n",
        "            polarity += analysis.sentiment.polarity  \n",
        "\n",
        "            if (analysis.sentiment.polarity == 0):  \n",
        "                neutral += 1\n",
        "            elif (analysis.sentiment.polarity > 0 and analysis.sentiment.polarity <= 1):\n",
        "                positive += 1\n",
        "            elif (analysis.sentiment.polarity > -1 and analysis.sentiment.polarity <= 0):\n",
        "                negative += 1\n",
        "\n",
        "\n",
        "        \n",
        "        csvWriter.writerow(self.tweetText)\n",
        "        csvFile.close()\n",
        "\n",
        "        \n",
        "        positive = self.percentage(positive, NoOfTerms)\n",
        "        negative = self.percentage(negative, NoOfTerms)\n",
        "        neutral = self.percentage(neutral, NoOfTerms)\n",
        "\n",
        "        \n",
        "        polarity = polarity / NoOfTerms\n",
        "\n",
        "        \n",
        "        print(\"How people are reacting on \" + searchTerm + \" by analyzing \" + str(NoOfTerms) + \" tweets.\")\n",
        "        print()\n",
        "        print(\"General Report: \")\n",
        "\n",
        "        if (polarity == 0):\n",
        "            print(\"Neutral\")\n",
        "        elif (polarity > 0 and polarity <= 1):\n",
        "            print(\"Positive\")\n",
        "        elif (polarity > -1 and polarity <= 0):\n",
        "            print(\"Negative\")\n",
        "\n",
        "        print()\n",
        "        print(\"Detailed Report: \")\n",
        "        print(str(positive) + \"% people thought it was positive\")\n",
        "        print(str(negative) + \"% people thought it was negative\")\n",
        "        print(str(neutral) + \"% people thought it was neutral\")\n",
        "\n",
        "        self.plotPieChart(positive, negative, neutral, searchTerm, NoOfTerms)\n",
        "\n",
        "\n",
        "    def cleanTweet(self, tweet):\n",
        "       \n",
        "        return ' '.join(re.sub(\"(@[A-Za-z0-9]+)|([^0-9A-Za-z \\t]) | (\\w +:\\ / \\ / \\S +)\", \" \", tweet).split())\n",
        "\n",
        "    \n",
        "    def percentage(self, part, whole):\n",
        "        temp = 100 * float(part) / float(whole)\n",
        "        return format(temp, '.2f')\n",
        "\n",
        "    def plotPieChart(self, positive,negative, neutral, searchTerm, noOfSearchTerms):\n",
        "        labels = ['Positive [' + str(positive) + '%]', 'Neutral [' + str(neutral) + '%]','Negative [' + str(negative) + '%]']\n",
        "        sizes = [positive, neutral, negative]\n",
        "        colors = ['green','yellow', 'red']\n",
        "        patches, texts = plt.pie(sizes, colors=colors, startangle=90)\n",
        "        plt.legend(patches, labels, loc=\"best\")\n",
        "        plt.title('How people are reacting on ' + searchTerm + ' by analyzing ' + str(noOfSearchTerms) + ' Tweets.')\n",
        "        plt.axis('equal')\n",
        "        plt.tight_layout()\n",
        "        plt.show()\n",
        "\n",
        "\n",
        "\n",
        "if __name__== \"__main__\":\n",
        "    sa = SentimentAnalysis()\n",
        "    sa.DownloadData()"
      ],
      "execution_count": 1,
      "outputs": [
        {
          "output_type": "stream",
          "text": [
            "Enter Keyword:love\n",
            "Enter how many tweets to search: 100\n",
            "How people are reacting on love by analyzing 100 tweets.\n",
            "\n",
            "General Report: \n",
            "Positive\n",
            "\n",
            "Detailed Report: \n",
            "85.00% people thought it was positive\n",
            "8.00% people thought it was negative\n",
            "7.00% people thought it was neutral\n"
          ],
          "name": "stdout"
        },
        {
          "output_type": "display_data",
          "data": {
            "image/png": "[encoded data removed]",
            "text/plain": [
              "<Figure size 432x288 with 1 Axes>"
            ]
          },
          "metadata": {
            "tags": []
          }
        }
      ]
    },
    {
      "cell_type": "code",
      "metadata": {
        "id": "myjgDUHkl7Y1"
      },
      "source": [
        ""
      ],
      "execution_count": null,
      "outputs": []
    }
  ]
}